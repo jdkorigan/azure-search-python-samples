{
 "cells": [
  {
   "cell_type": "markdown",
   "id": "810ce279",
   "metadata": {},
   "source": [
    "# Document-level access example using the push document APIs\n",
    "\n",
    "In Azure AI Search, you can upload any JSON document payload to a search index for indexing. This notebook shows you how index documents that contain [user access permissions at the document level](azure/search/search-document-level-access-overview), and then query the index to return only those results that the user is authorized to view.\n",
    "\n",
    "The security principal behind the query access token determines the \"user\". The permission metadata in the document determines whether the user has authorization to the content. Internally, the search engine filters out any documents that aren't associated with the security principal.\n",
    "\n",
    "This feature is currently in preview.\n",
    "\n",
    "For an alternative approaching using indexers and pull API, see [Quickstart-Document-Permissions-Pull-API](../Quickstart-Document-Permissions-Pull-API/document-permissions-pull-api.ipynb).\n"
   ]
  },
  {
   "cell_type": "markdown",
   "id": "b6585426",
   "metadata": {},
   "source": [
    "## Prerequisites\n",
    "\n",
    "+ Azure AI Search, with [role-based access control](https://learn.microsoft.com/azure/search/search-security-enable-roles).\n",
    "\n",
    "## Permissions\n",
    "\n",
    "This walkthrough uses Microsoft Entra ID authentication and authorization.\n",
    "\n",
    "On Azure AI Search, you must have role assignments to create objects and run queries:\n",
    "\n",
    "+ **Search Service Contributor**\n",
    "+ **Search Index Data Contributor**\n",
    "+ **Search Index Data Reader**\n",
    "\n",
    "For more information, see [Connect to Azure AI Search using roles](https://learn.microsoft.com/azure/search/search-security-rbac) and [Quickstart: Connect without keys for local testing](https://learn.microsoft.com/azure/search/search-get-started-rbac).\n",
    "\n",
    "## Set the environment variables\n",
    "\n",
    "1. Rename `sample.env` to `.env`.\n",
    "1. In the `.env` file, provide a full endpoint to your search service (https://your-search-service.search.windows.net).\n",
    "1. Replace the default index name if you want a different name.\n",
    "\n",
    "## Load Connections\n",
    "\n",
    "We recommend creating a virtual environment to run this sample code. In Visual Studio Code, open the control palette (ctrl-shift-p) to create an environment. This notebook was tested on Python 3.10.\n",
    "\n",
    "Once your environment is created, load the environment variables."
   ]
  },
  {
   "cell_type": "code",
   "execution_count": null,
   "id": "3a60e313",
   "metadata": {},
   "outputs": [],
   "source": [
    "%pip install msgraph-core\n"
   ]
  },
  {
   "cell_type": "code",
   "execution_count": 2,
   "id": "2975a7f5",
   "metadata": {},
   "outputs": [],
   "source": [
    "from dotenv import load_dotenv\n",
    "from azure.identity import DefaultAzureCredential, get_bearer_token_provider\n",
    "import os\n",
    "\n",
    "load_dotenv(override=True) # take environment variables from .env.\n",
    "\n",
    "# The following variables from your .env file are used in this notebook\n",
    "endpoint = os.environ[\"AZURE_SEARCH_ENDPOINT\"]\n",
    "credential = DefaultAzureCredential()\n",
    "index_name = os.getenv(\"AZURE_SEARCH_INDEX\")\n",
    "token_provider = get_bearer_token_provider(credential, \"https://search.azure.com/.default\")\n"
   ]
  },
  {
   "cell_type": "code",
   "execution_count": 8,
   "id": "4c404c7b",
   "metadata": {},
   "outputs": [
    {
     "ename": "ModuleNotFoundError",
     "evalue": "No module named 'msgraph.core'",
     "output_type": "error",
     "traceback": [
      "\u001b[31m---------------------------------------------------------------------------\u001b[39m",
      "\u001b[31mModuleNotFoundError\u001b[39m                       Traceback (most recent call last)",
      "\u001b[36mCell\u001b[39m\u001b[36m \u001b[39m\u001b[32mIn[8]\u001b[39m\u001b[32m, line 1\u001b[39m\n\u001b[32m----> \u001b[39m\u001b[32m1\u001b[39m \u001b[38;5;28;01mfrom\u001b[39;00m\u001b[38;5;250m \u001b[39m\u001b[34;01mmsgraph\u001b[39;00m\u001b[34;01m.\u001b[39;00m\u001b[34;01mcore\u001b[39;00m\u001b[38;5;250m \u001b[39m\u001b[38;5;28;01mimport\u001b[39;00m GraphClient\n\u001b[32m      3\u001b[39m \u001b[38;5;66;03m# Create the Graph client using Azure Identity credential\u001b[39;00m\n\u001b[32m      4\u001b[39m graph_client = GraphClient(credential=credential)\n",
      "\u001b[31mModuleNotFoundError\u001b[39m: No module named 'msgraph.core'"
     ]
    }
   ],
   "source": [
    "from msgraph.core import GraphClient\n",
    "\n",
    "# Create the Graph client using Azure Identity credential\n",
    "graph_client = GraphClient(credential=credential)\n",
    "\n",
    "# Get current user info\n",
    "me = graph_client.get('/me').json()\n",
    "oid = me.get('id')\n",
    "print(f'User OID: {oid}')\n",
    "\n",
    "# Get group memberships\n",
    "groups_response = graph_client.get('/me/memberOf?$select=id')\n",
    "groups = groups_response.json().get('value', [])\n",
    "group_ids = [g['id'] for g in groups if 'id' in g]\n",
    "print(f'Group IDs: {group_ids}')"
   ]
  },
  {
   "cell_type": "markdown",
   "id": "9327cf01",
   "metadata": {},
   "source": [
    "## Create Sample Index\n",
    "\n",
    "The search index must includes fields for your content and for permission metadata. Assign the new permission filter option to a string field and make sure the field is filterable. The search engine builds the filter internally at query time."
   ]
  },
  {
   "cell_type": "code",
   "execution_count": 3,
   "id": "9863061f",
   "metadata": {},
   "outputs": [
    {
     "name": "stderr",
     "output_type": "stream",
     "text": [
      "retrievable is not a known attribute of class <class 'azure.search.documents.indexes.models._index.SearchField'> and will be ignored\n",
      "retrievable is not a known attribute of class <class 'azure.search.documents.indexes.models._index.SearchField'> and will be ignored\n"
     ]
    },
    {
     "ename": "HttpResponseError",
     "evalue": "(ResourceNameAlreadyInUse) Cannot create index 'document-permissions-push-idx' because it already exists.\nCode: ResourceNameAlreadyInUse\nMessage: Cannot create index 'document-permissions-push-idx' because it already exists.\nException Details:\t(CannotCreateExistingIndex) Cannot create index 'document-permissions-push-idx' because it already exists.\n\tCode: CannotCreateExistingIndex\n\tMessage: Cannot create index 'document-permissions-push-idx' because it already exists.",
     "output_type": "error",
     "traceback": [
      "\u001b[31m---------------------------------------------------------------------------\u001b[39m",
      "\u001b[31mHttpResponseError\u001b[39m                         Traceback (most recent call last)",
      "\u001b[36mCell\u001b[39m\u001b[36m \u001b[39m\u001b[32mIn[3]\u001b[39m\u001b[32m, line 16\u001b[39m\n\u001b[32m      4\u001b[39m index_client = SearchIndexClient(endpoint=endpoint, credential=credential)\n\u001b[32m      5\u001b[39m index = SearchIndex(\n\u001b[32m      6\u001b[39m     name=index_name,\n\u001b[32m      7\u001b[39m     fields=[\n\u001b[32m   (...)\u001b[39m\u001b[32m     13\u001b[39m     permission_filter_option=SearchIndexPermissionFilterOption.ENABLED\n\u001b[32m     14\u001b[39m )\n\u001b[32m---> \u001b[39m\u001b[32m16\u001b[39m \u001b[43mindex_client\u001b[49m\u001b[43m.\u001b[49m\u001b[43mcreate_index\u001b[49m\u001b[43m(\u001b[49m\u001b[43mindex\u001b[49m\u001b[43m=\u001b[49m\u001b[43mindex\u001b[49m\u001b[43m)\u001b[49m\n\u001b[32m     17\u001b[39m \u001b[38;5;28mprint\u001b[39m(\u001b[33mf\u001b[39m\u001b[33m\"\u001b[39m\u001b[33mIndex \u001b[39m\u001b[33m'\u001b[39m\u001b[38;5;132;01m{\u001b[39;00mindex_name\u001b[38;5;132;01m}\u001b[39;00m\u001b[33m'\u001b[39m\u001b[33m created with permission filter option enabled.\u001b[39m\u001b[33m\"\u001b[39m)\n",
      "\u001b[36mFile \u001b[39m\u001b[32mc:\\Users\\jerom\\OneDrive\\AZURE-AI\\Search\\azure-search-python-samples\\.venv\\Lib\\site-packages\\azure\\core\\tracing\\decorator.py:119\u001b[39m, in \u001b[36mdistributed_trace.<locals>.decorator.<locals>.wrapper_use_tracer\u001b[39m\u001b[34m(*args, **kwargs)\u001b[39m\n\u001b[32m    117\u001b[39m \u001b[38;5;66;03m# If tracing is disabled globally and user didn't explicitly enable it, don't trace.\u001b[39;00m\n\u001b[32m    118\u001b[39m \u001b[38;5;28;01mif\u001b[39;00m user_enabled \u001b[38;5;129;01mis\u001b[39;00m \u001b[38;5;28;01mFalse\u001b[39;00m \u001b[38;5;129;01mor\u001b[39;00m (\u001b[38;5;129;01mnot\u001b[39;00m tracing_enabled \u001b[38;5;129;01mand\u001b[39;00m user_enabled \u001b[38;5;129;01mis\u001b[39;00m \u001b[38;5;28;01mNone\u001b[39;00m):\n\u001b[32m--> \u001b[39m\u001b[32m119\u001b[39m     \u001b[38;5;28;01mreturn\u001b[39;00m \u001b[43mfunc\u001b[49m\u001b[43m(\u001b[49m\u001b[43m*\u001b[49m\u001b[43margs\u001b[49m\u001b[43m,\u001b[49m\u001b[43m \u001b[49m\u001b[43m*\u001b[49m\u001b[43m*\u001b[49m\u001b[43mkwargs\u001b[49m\u001b[43m)\u001b[49m\n\u001b[32m    121\u001b[39m \u001b[38;5;66;03m# Merge span is parameter is set, but only if no explicit parent are passed\u001b[39;00m\n\u001b[32m    122\u001b[39m \u001b[38;5;28;01mif\u001b[39;00m merge_span \u001b[38;5;129;01mand\u001b[39;00m \u001b[38;5;129;01mnot\u001b[39;00m passed_in_parent:\n",
      "\u001b[36mFile \u001b[39m\u001b[32mc:\\Users\\jerom\\OneDrive\\AZURE-AI\\Search\\azure-search-python-samples\\.venv\\Lib\\site-packages\\azure\\search\\documents\\indexes\\_search_index_client.py:234\u001b[39m, in \u001b[36mSearchIndexClient.create_index\u001b[39m\u001b[34m(self, index, **kwargs)\u001b[39m\n\u001b[32m    232\u001b[39m kwargs[\u001b[33m\"\u001b[39m\u001b[33mheaders\u001b[39m\u001b[33m\"\u001b[39m] = \u001b[38;5;28mself\u001b[39m._merge_client_headers(kwargs.get(\u001b[33m\"\u001b[39m\u001b[33mheaders\u001b[39m\u001b[33m\"\u001b[39m))\n\u001b[32m    233\u001b[39m patched_index = index._to_generated()  \u001b[38;5;66;03m# pylint:disable=protected-access\u001b[39;00m\n\u001b[32m--> \u001b[39m\u001b[32m234\u001b[39m result = \u001b[38;5;28;43mself\u001b[39;49m\u001b[43m.\u001b[49m\u001b[43m_client\u001b[49m\u001b[43m.\u001b[49m\u001b[43mindexes\u001b[49m\u001b[43m.\u001b[49m\u001b[43mcreate\u001b[49m\u001b[43m(\u001b[49m\u001b[43mpatched_index\u001b[49m\u001b[43m,\u001b[49m\u001b[43m \u001b[49m\u001b[43m*\u001b[49m\u001b[43m*\u001b[49m\u001b[43mkwargs\u001b[49m\u001b[43m)\u001b[49m\n\u001b[32m    235\u001b[39m \u001b[38;5;28;01mreturn\u001b[39;00m cast(SearchIndex, SearchIndex._from_generated(result))\n",
      "\u001b[36mFile \u001b[39m\u001b[32mc:\\Users\\jerom\\OneDrive\\AZURE-AI\\Search\\azure-search-python-samples\\.venv\\Lib\\site-packages\\azure\\core\\tracing\\decorator.py:119\u001b[39m, in \u001b[36mdistributed_trace.<locals>.decorator.<locals>.wrapper_use_tracer\u001b[39m\u001b[34m(*args, **kwargs)\u001b[39m\n\u001b[32m    117\u001b[39m \u001b[38;5;66;03m# If tracing is disabled globally and user didn't explicitly enable it, don't trace.\u001b[39;00m\n\u001b[32m    118\u001b[39m \u001b[38;5;28;01mif\u001b[39;00m user_enabled \u001b[38;5;129;01mis\u001b[39;00m \u001b[38;5;28;01mFalse\u001b[39;00m \u001b[38;5;129;01mor\u001b[39;00m (\u001b[38;5;129;01mnot\u001b[39;00m tracing_enabled \u001b[38;5;129;01mand\u001b[39;00m user_enabled \u001b[38;5;129;01mis\u001b[39;00m \u001b[38;5;28;01mNone\u001b[39;00m):\n\u001b[32m--> \u001b[39m\u001b[32m119\u001b[39m     \u001b[38;5;28;01mreturn\u001b[39;00m \u001b[43mfunc\u001b[49m\u001b[43m(\u001b[49m\u001b[43m*\u001b[49m\u001b[43margs\u001b[49m\u001b[43m,\u001b[49m\u001b[43m \u001b[49m\u001b[43m*\u001b[49m\u001b[43m*\u001b[49m\u001b[43mkwargs\u001b[49m\u001b[43m)\u001b[49m\n\u001b[32m    121\u001b[39m \u001b[38;5;66;03m# Merge span is parameter is set, but only if no explicit parent are passed\u001b[39;00m\n\u001b[32m    122\u001b[39m \u001b[38;5;28;01mif\u001b[39;00m merge_span \u001b[38;5;129;01mand\u001b[39;00m \u001b[38;5;129;01mnot\u001b[39;00m passed_in_parent:\n",
      "\u001b[36mFile \u001b[39m\u001b[32mc:\\Users\\jerom\\OneDrive\\AZURE-AI\\Search\\azure-search-python-samples\\.venv\\Lib\\site-packages\\azure\\search\\documents\\indexes\\_generated\\operations\\_indexes_operations.py:396\u001b[39m, in \u001b[36mIndexesOperations.create\u001b[39m\u001b[34m(self, index, request_options, **kwargs)\u001b[39m\n\u001b[32m    394\u001b[39m     map_error(status_code=response.status_code, response=response, error_map=error_map)\n\u001b[32m    395\u001b[39m     error = \u001b[38;5;28mself\u001b[39m._deserialize.failsafe_deserialize(_models.ErrorResponse, pipeline_response)\n\u001b[32m--> \u001b[39m\u001b[32m396\u001b[39m     \u001b[38;5;28;01mraise\u001b[39;00m HttpResponseError(response=response, model=error)\n\u001b[32m    398\u001b[39m deserialized = \u001b[38;5;28mself\u001b[39m._deserialize(\u001b[33m\"\u001b[39m\u001b[33mSearchIndex\u001b[39m\u001b[33m\"\u001b[39m, pipeline_response.http_response)\n\u001b[32m    400\u001b[39m \u001b[38;5;28;01mif\u001b[39;00m \u001b[38;5;28mcls\u001b[39m:\n",
      "\u001b[31mHttpResponseError\u001b[39m: (ResourceNameAlreadyInUse) Cannot create index 'document-permissions-push-idx' because it already exists.\nCode: ResourceNameAlreadyInUse\nMessage: Cannot create index 'document-permissions-push-idx' because it already exists.\nException Details:\t(CannotCreateExistingIndex) Cannot create index 'document-permissions-push-idx' because it already exists.\n\tCode: CannotCreateExistingIndex\n\tMessage: Cannot create index 'document-permissions-push-idx' because it already exists."
     ]
    }
   ],
   "source": [
    "from azure.search.documents.indexes.models import SearchField, SearchIndex, PermissionFilter, SearchIndexPermissionFilterOption\n",
    "from azure.search.documents.indexes import SearchIndexClient\n",
    "\n",
    "index_client = SearchIndexClient(endpoint=endpoint, credential=credential)\n",
    "index = SearchIndex(\n",
    "    name=index_name,\n",
    "    fields=[\n",
    "        SearchField(name=\"id\", type=\"Edm.String\", key=True, filterable=True, sortable=True),\n",
    "        SearchField(name=\"oid\", type=\"Collection(Edm.String)\", retrievable=True, filterable=True, permission_filter=PermissionFilter.USER_IDS),\n",
    "        SearchField(name=\"group\", type=\"Collection(Edm.String)\", retrievable=True, filterable=True, permission_filter=PermissionFilter.GROUP_IDS),\n",
    "        SearchField(name=\"name\", type=\"Edm.String\", searchable=True)\n",
    "    ],\n",
    "    permission_filter_option=SearchIndexPermissionFilterOption.ENABLED\n",
    ")\n",
    "\n",
    "index_client.create_index(index=index)\n",
    "print(f\"Index '{index_name}' created with permission filter option enabled.\")"
   ]
  },
  {
   "cell_type": "markdown",
   "id": "f5cf4169",
   "metadata": {},
   "source": [
    "## Connect to Graph to find your object ID (OID) and groups\n",
    "\n",
    "This step calls the Graph APIs to get a few group IDs for your Microsoft Entra identity. Your group IDs will be added to the access control list of the objects created in the next step."
   ]
  },
  {
   "cell_type": "code",
   "execution_count": 4,
   "id": "77b881a0",
   "metadata": {},
   "outputs": [
    {
     "ename": "ModuleNotFoundError",
     "evalue": "No module named 'msgraph.core'",
     "output_type": "error",
     "traceback": [
      "\u001b[31m---------------------------------------------------------------------------\u001b[39m",
      "\u001b[31mModuleNotFoundError\u001b[39m                       Traceback (most recent call last)",
      "\u001b[36mCell\u001b[39m\u001b[36m \u001b[39m\u001b[32mIn[4]\u001b[39m\u001b[32m, line 1\u001b[39m\n\u001b[32m----> \u001b[39m\u001b[32m1\u001b[39m \u001b[38;5;28;01mfrom\u001b[39;00m\u001b[38;5;250m \u001b[39m\u001b[34;01mmsgraph\u001b[39;00m\u001b[34;01m.\u001b[39;00m\u001b[34;01mcore\u001b[39;00m\u001b[38;5;250m \u001b[39m\u001b[38;5;28;01mimport\u001b[39;00m GraphSession\n\u001b[32m      3\u001b[39m \u001b[38;5;28mprint\u001b[39m(\u001b[33m\"\u001b[39m\u001b[33mmsgraphcore is installed.\u001b[39m\u001b[33m\"\u001b[39m)\n\u001b[32m      4\u001b[39m \u001b[38;5;28mprint\u001b[39m(\u001b[33m\"\u001b[39m\u001b[33mVersion:\u001b[39m\u001b[33m\"\u001b[39m, msgraphcore.__version__)\n",
      "\u001b[31mModuleNotFoundError\u001b[39m: No module named 'msgraph.core'"
     ]
    }
   ],
   "source": [
    "from msgraph.core import GraphSession\n",
    "\n",
    "print(\"msgraphcore is installed.\")\n",
    "print(\"Version:\", msgraphcore.__version__)"
   ]
  },
  {
   "cell_type": "code",
   "execution_count": 5,
   "id": "f0c9d2ba",
   "metadata": {},
   "outputs": [
    {
     "name": "stderr",
     "output_type": "stream",
     "text": [
      "retrievable is not a known attribute of class <class 'azure.search.documents.indexes.models._index.SearchField'> and will be ignored\n",
      "retrievable is not a known attribute of class <class 'azure.search.documents.indexes.models._index.SearchField'> and will be ignored\n"
     ]
    },
    {
     "ename": "HttpResponseError",
     "evalue": "(ResourceNameAlreadyInUse) Cannot create index 'document-permissions-push-idx' because it already exists.\nCode: ResourceNameAlreadyInUse\nMessage: Cannot create index 'document-permissions-push-idx' because it already exists.\nException Details:\t(CannotCreateExistingIndex) Cannot create index 'document-permissions-push-idx' because it already exists.\n\tCode: CannotCreateExistingIndex\n\tMessage: Cannot create index 'document-permissions-push-idx' because it already exists.",
     "output_type": "error",
     "traceback": [
      "\u001b[31m---------------------------------------------------------------------------\u001b[39m",
      "\u001b[31mHttpResponseError\u001b[39m                         Traceback (most recent call last)",
      "\u001b[36mCell\u001b[39m\u001b[36m \u001b[39m\u001b[32mIn[5]\u001b[39m\u001b[32m, line 16\u001b[39m\n\u001b[32m      4\u001b[39m index_client = SearchIndexClient(endpoint=endpoint, credential=credential)\n\u001b[32m      5\u001b[39m index = SearchIndex(\n\u001b[32m      6\u001b[39m     name=index_name,\n\u001b[32m      7\u001b[39m     fields=[\n\u001b[32m   (...)\u001b[39m\u001b[32m     13\u001b[39m     permission_filter_option=SearchIndexPermissionFilterOption.ENABLED\n\u001b[32m     14\u001b[39m )\n\u001b[32m---> \u001b[39m\u001b[32m16\u001b[39m \u001b[43mindex_client\u001b[49m\u001b[43m.\u001b[49m\u001b[43mcreate_index\u001b[49m\u001b[43m(\u001b[49m\u001b[43mindex\u001b[49m\u001b[43m=\u001b[49m\u001b[43mindex\u001b[49m\u001b[43m)\u001b[49m\n\u001b[32m     17\u001b[39m \u001b[38;5;28mprint\u001b[39m(\u001b[33mf\u001b[39m\u001b[33m\"\u001b[39m\u001b[33mIndex \u001b[39m\u001b[33m'\u001b[39m\u001b[38;5;132;01m{\u001b[39;00mindex_name\u001b[38;5;132;01m}\u001b[39;00m\u001b[33m'\u001b[39m\u001b[33m created with permission filter option enabled.\u001b[39m\u001b[33m\"\u001b[39m)\n",
      "\u001b[36mFile \u001b[39m\u001b[32mc:\\Users\\jerom\\OneDrive\\AZURE-AI\\Search\\azure-search-python-samples\\.venv\\Lib\\site-packages\\azure\\core\\tracing\\decorator.py:119\u001b[39m, in \u001b[36mdistributed_trace.<locals>.decorator.<locals>.wrapper_use_tracer\u001b[39m\u001b[34m(*args, **kwargs)\u001b[39m\n\u001b[32m    117\u001b[39m \u001b[38;5;66;03m# If tracing is disabled globally and user didn't explicitly enable it, don't trace.\u001b[39;00m\n\u001b[32m    118\u001b[39m \u001b[38;5;28;01mif\u001b[39;00m user_enabled \u001b[38;5;129;01mis\u001b[39;00m \u001b[38;5;28;01mFalse\u001b[39;00m \u001b[38;5;129;01mor\u001b[39;00m (\u001b[38;5;129;01mnot\u001b[39;00m tracing_enabled \u001b[38;5;129;01mand\u001b[39;00m user_enabled \u001b[38;5;129;01mis\u001b[39;00m \u001b[38;5;28;01mNone\u001b[39;00m):\n\u001b[32m--> \u001b[39m\u001b[32m119\u001b[39m     \u001b[38;5;28;01mreturn\u001b[39;00m \u001b[43mfunc\u001b[49m\u001b[43m(\u001b[49m\u001b[43m*\u001b[49m\u001b[43margs\u001b[49m\u001b[43m,\u001b[49m\u001b[43m \u001b[49m\u001b[43m*\u001b[49m\u001b[43m*\u001b[49m\u001b[43mkwargs\u001b[49m\u001b[43m)\u001b[49m\n\u001b[32m    121\u001b[39m \u001b[38;5;66;03m# Merge span is parameter is set, but only if no explicit parent are passed\u001b[39;00m\n\u001b[32m    122\u001b[39m \u001b[38;5;28;01mif\u001b[39;00m merge_span \u001b[38;5;129;01mand\u001b[39;00m \u001b[38;5;129;01mnot\u001b[39;00m passed_in_parent:\n",
      "\u001b[36mFile \u001b[39m\u001b[32mc:\\Users\\jerom\\OneDrive\\AZURE-AI\\Search\\azure-search-python-samples\\.venv\\Lib\\site-packages\\azure\\search\\documents\\indexes\\_search_index_client.py:234\u001b[39m, in \u001b[36mSearchIndexClient.create_index\u001b[39m\u001b[34m(self, index, **kwargs)\u001b[39m\n\u001b[32m    232\u001b[39m kwargs[\u001b[33m\"\u001b[39m\u001b[33mheaders\u001b[39m\u001b[33m\"\u001b[39m] = \u001b[38;5;28mself\u001b[39m._merge_client_headers(kwargs.get(\u001b[33m\"\u001b[39m\u001b[33mheaders\u001b[39m\u001b[33m\"\u001b[39m))\n\u001b[32m    233\u001b[39m patched_index = index._to_generated()  \u001b[38;5;66;03m# pylint:disable=protected-access\u001b[39;00m\n\u001b[32m--> \u001b[39m\u001b[32m234\u001b[39m result = \u001b[38;5;28;43mself\u001b[39;49m\u001b[43m.\u001b[49m\u001b[43m_client\u001b[49m\u001b[43m.\u001b[49m\u001b[43mindexes\u001b[49m\u001b[43m.\u001b[49m\u001b[43mcreate\u001b[49m\u001b[43m(\u001b[49m\u001b[43mpatched_index\u001b[49m\u001b[43m,\u001b[49m\u001b[43m \u001b[49m\u001b[43m*\u001b[49m\u001b[43m*\u001b[49m\u001b[43mkwargs\u001b[49m\u001b[43m)\u001b[49m\n\u001b[32m    235\u001b[39m \u001b[38;5;28;01mreturn\u001b[39;00m cast(SearchIndex, SearchIndex._from_generated(result))\n",
      "\u001b[36mFile \u001b[39m\u001b[32mc:\\Users\\jerom\\OneDrive\\AZURE-AI\\Search\\azure-search-python-samples\\.venv\\Lib\\site-packages\\azure\\core\\tracing\\decorator.py:119\u001b[39m, in \u001b[36mdistributed_trace.<locals>.decorator.<locals>.wrapper_use_tracer\u001b[39m\u001b[34m(*args, **kwargs)\u001b[39m\n\u001b[32m    117\u001b[39m \u001b[38;5;66;03m# If tracing is disabled globally and user didn't explicitly enable it, don't trace.\u001b[39;00m\n\u001b[32m    118\u001b[39m \u001b[38;5;28;01mif\u001b[39;00m user_enabled \u001b[38;5;129;01mis\u001b[39;00m \u001b[38;5;28;01mFalse\u001b[39;00m \u001b[38;5;129;01mor\u001b[39;00m (\u001b[38;5;129;01mnot\u001b[39;00m tracing_enabled \u001b[38;5;129;01mand\u001b[39;00m user_enabled \u001b[38;5;129;01mis\u001b[39;00m \u001b[38;5;28;01mNone\u001b[39;00m):\n\u001b[32m--> \u001b[39m\u001b[32m119\u001b[39m     \u001b[38;5;28;01mreturn\u001b[39;00m \u001b[43mfunc\u001b[49m\u001b[43m(\u001b[49m\u001b[43m*\u001b[49m\u001b[43margs\u001b[49m\u001b[43m,\u001b[49m\u001b[43m \u001b[49m\u001b[43m*\u001b[49m\u001b[43m*\u001b[49m\u001b[43mkwargs\u001b[49m\u001b[43m)\u001b[49m\n\u001b[32m    121\u001b[39m \u001b[38;5;66;03m# Merge span is parameter is set, but only if no explicit parent are passed\u001b[39;00m\n\u001b[32m    122\u001b[39m \u001b[38;5;28;01mif\u001b[39;00m merge_span \u001b[38;5;129;01mand\u001b[39;00m \u001b[38;5;129;01mnot\u001b[39;00m passed_in_parent:\n",
      "\u001b[36mFile \u001b[39m\u001b[32mc:\\Users\\jerom\\OneDrive\\AZURE-AI\\Search\\azure-search-python-samples\\.venv\\Lib\\site-packages\\azure\\search\\documents\\indexes\\_generated\\operations\\_indexes_operations.py:396\u001b[39m, in \u001b[36mIndexesOperations.create\u001b[39m\u001b[34m(self, index, request_options, **kwargs)\u001b[39m\n\u001b[32m    394\u001b[39m     map_error(status_code=response.status_code, response=response, error_map=error_map)\n\u001b[32m    395\u001b[39m     error = \u001b[38;5;28mself\u001b[39m._deserialize.failsafe_deserialize(_models.ErrorResponse, pipeline_response)\n\u001b[32m--> \u001b[39m\u001b[32m396\u001b[39m     \u001b[38;5;28;01mraise\u001b[39;00m HttpResponseError(response=response, model=error)\n\u001b[32m    398\u001b[39m deserialized = \u001b[38;5;28mself\u001b[39m._deserialize(\u001b[33m\"\u001b[39m\u001b[33mSearchIndex\u001b[39m\u001b[33m\"\u001b[39m, pipeline_response.http_response)\n\u001b[32m    400\u001b[39m \u001b[38;5;28;01mif\u001b[39;00m \u001b[38;5;28mcls\u001b[39m:\n",
      "\u001b[31mHttpResponseError\u001b[39m: (ResourceNameAlreadyInUse) Cannot create index 'document-permissions-push-idx' because it already exists.\nCode: ResourceNameAlreadyInUse\nMessage: Cannot create index 'document-permissions-push-idx' because it already exists.\nException Details:\t(CannotCreateExistingIndex) Cannot create index 'document-permissions-push-idx' because it already exists.\n\tCode: CannotCreateExistingIndex\n\tMessage: Cannot create index 'document-permissions-push-idx' because it already exists."
     ]
    }
   ],
   "source": [
    "from azure.search.documents.indexes.models import SearchField, SearchIndex, PermissionFilter, SearchIndexPermissionFilterOption\n",
    "from azure.search.documents.indexes import SearchIndexClient\n",
    "\n",
    "index_client = SearchIndexClient(endpoint=endpoint, credential=credential)\n",
    "index = SearchIndex(\n",
    "    name=index_name,\n",
    "    fields=[\n",
    "        SearchField(name=\"id\", type=\"Edm.String\", key=True, filterable=True, sortable=True),\n",
    "        SearchField(name=\"oid\", type=\"Collection(Edm.String)\", retrievable=True, filterable=True, permission_filter=PermissionFilter.USER_IDS),\n",
    "        SearchField(name=\"group\", type=\"Collection(Edm.String)\", retrievable=True, filterable=True, permission_filter=PermissionFilter.GROUP_IDS),\n",
    "        SearchField(name=\"name\", type=\"Edm.String\", searchable=True)\n",
    "    ],\n",
    "    permission_filter_option=SearchIndexPermissionFilterOption.ENABLED\n",
    ")\n",
    "\n",
    "index_client.create_index(index=index)\n",
    "print(f\"Index '{index_name}' created with permission filter option enabled.\")"
   ]
  },
  {
   "cell_type": "code",
   "execution_count": 6,
   "id": "63904f09",
   "metadata": {},
   "outputs": [
    {
     "ename": "ModuleNotFoundError",
     "evalue": "No module named 'msgraph.core'",
     "output_type": "error",
     "traceback": [
      "\u001b[31m---------------------------------------------------------------------------\u001b[39m",
      "\u001b[31mModuleNotFoundError\u001b[39m                       Traceback (most recent call last)",
      "\u001b[36mCell\u001b[39m\u001b[36m \u001b[39m\u001b[32mIn[6]\u001b[39m\u001b[32m, line 2\u001b[39m\n\u001b[32m      1\u001b[39m \u001b[38;5;66;03m# Install msgraph-core if you haven't already\u001b[39;00m\n\u001b[32m----> \u001b[39m\u001b[32m2\u001b[39m \u001b[38;5;28;01mfrom\u001b[39;00m\u001b[38;5;250m \u001b[39m\u001b[34;01mmsgraph\u001b[39;00m\u001b[34;01m.\u001b[39;00m\u001b[34;01mcore\u001b[39;00m\u001b[38;5;250m \u001b[39m\u001b[38;5;28;01mimport\u001b[39;00m GraphClient\n\u001b[32m      4\u001b[39m \u001b[38;5;66;03m# Create the Graph client using Azure Identity credential\u001b[39;00m\n\u001b[32m      5\u001b[39m graph_client = GraphClient(credential=credential)\n",
      "\u001b[31mModuleNotFoundError\u001b[39m: No module named 'msgraph.core'"
     ]
    }
   ],
   "source": [
    "# Install msgraph-core if you haven't already\n",
    "from msgraph.core import GraphClient\n",
    "\n",
    "# Create the Graph client using Azure Identity credential\n",
    "graph_client = GraphClient(credential=credential)\n",
    "\n",
    "# Get current user info\n",
    "me = graph_client.get('/me').json()\n",
    "oid = me.get('id')\n",
    "print(f'User OID: {oid}')\n",
    "\n",
    "# Get group memberships\n",
    "groups_response = graph_client.get('/me/memberOf?$select=id')\n",
    "groups = groups_response.json().get('value', [])\n",
    "group_ids = [g['id'] for g in groups if 'id' in g]\n",
    "print(f'Group IDs: {group_ids}')"
   ]
  },
  {
   "cell_type": "code",
   "execution_count": null,
   "id": "49b18766",
   "metadata": {},
   "outputs": [],
   "source": [
    "from azure.search.documents.indexes.models import SearchField, SearchIndex, PermissionFilter, SearchIndexPermissionFilterOption\n",
    "from azure.search.documents.indexes import SearchIndexClient\n",
    "\n",
    "index_client = SearchIndexClient(endpoint=endpoint, credential=credential)\n",
    "index = SearchIndex(\n",
    "    name=index_name,\n",
    "    fields=[\n",
    "        SearchField(name=\"id\", type=\"Edm.String\", key=True, filterable=True, sortable=True),\n",
    "        SearchField(name=\"oid\", type=\"Collection(Edm.String)\", retrievable=True, filterable=True, permission_filter=PermissionFilter.USER_IDS),\n",
    "        SearchField(name=\"group\", type=\"Collection(Edm.String)\", retrievable=True, filterable=True, permission_filter=PermissionFilter.GROUP_IDS),\n",
    "        SearchField(name=\"name\", type=\"Edm.String\", searchable=True)\n",
    "    ],\n",
    "    permission_filter_option=SearchIndexPermissionFilterOption.ENABLED\n",
    ")\n",
    "\n",
    "index_client.create_index(index=index)\n",
    "print(f\"Index '{index_name}' created with permission filter option enabled.\")"
   ]
  },
  {
   "cell_type": "code",
   "execution_count": null,
   "id": "6649ee66",
   "metadata": {},
   "outputs": [],
   "source": [
    "from azure.search.documents.indexes.models import SearchField, SearchIndex, PermissionFilter, SearchIndexPermissionFilterOption\n",
    "from azure.search.documents.indexes import SearchIndexClient\n",
    "\n",
    "index_client = SearchIndexClient(endpoint=endpoint, credential=credential)\n",
    "index = SearchIndex(\n",
    "    name=index_name,\n",
    "    fields=[\n",
    "        SearchField(name=\"id\", type=\"Edm.String\", key=True, filterable=True, sortable=True),\n",
    "        SearchField(name=\"oid\", type=\"Collection(Edm.String)\", retrievable=True, filterable=True, permission_filter=PermissionFilter.USER_IDS),\n",
    "        SearchField(name=\"group\", type=\"Collection(Edm.String)\", retrievable=True, filterable=True, permission_filter=PermissionFilter.GROUP_IDS),\n",
    "        SearchField(name=\"name\", type=\"Edm.String\", searchable=True)\n",
    "    ],\n",
    "    permission_filter_option=SearchIndexPermissionFilterOption.ENABLED\n",
    ")\n",
    "\n",
    "index_client.create_index(index=index)\n",
    "print(f\"Index '{index_name}' created with permission filter option enabled.\")"
   ]
  },
  {
   "cell_type": "markdown",
   "id": "a9ce6d0f",
   "metadata": {},
   "source": [
    "## Upload Sample Data\n",
    "\n",
    "This step creates the container, folders, and uploads documents into Azure Storage. It assigns your group IDs to to the access control list for each file."
   ]
  },
  {
   "cell_type": "code",
   "execution_count": null,
   "id": "8fb830a1",
   "metadata": {},
   "outputs": [],
   "source": [
    "from azure.search.documents import SearchClient\n",
    "search_client = SearchClient(endpoint=endpoint, index_name=index_name, credential=credential)\n",
    "\n",
    "documents = [\n",
    "    { \"id\": \"1\", \"oid\": [oid], \"group\": [groups.value[0].id], \"name\": \"Document 1\" },\n",
    "    { \"id\": \"2\", \"oid\": [\"all\"], \"group\": [groups.value[0].id], \"name\": \"Document 2\" },\n",
    "    { \"id\": \"3\", \"oid\": [oid], \"group\": [\"all\"], \"name\": \"Document 3\" },\n",
    "    { \"id\": \"4\", \"oid\": [\"none\"], \"group\": [\"none\"], \"name\": \"Document 4\" },\n",
    "    { \"id\": \"5\", \"oid\": [\"none\"], \"group\": [groups.value[0].id], \"name\": \"Document 5\" },\n",
    "]\n",
    "search_client.upload_documents(documents=documents)\n",
    "print(\"Documents uploaded to the index.\")\n"
   ]
  },
  {
   "cell_type": "markdown",
   "id": "e5c93f76",
   "metadata": {},
   "source": [
    "## Search sample data with x-ms-query-source-authorization\n",
    "\n",
    "This query uses an empty search string (`*`) to provide an unqualified search. It returns the file name and permission metadata associated with each file. Notice that each file is associated with a different group ID."
   ]
  },
  {
   "cell_type": "code",
   "execution_count": null,
   "id": "cd872e8c",
   "metadata": {},
   "outputs": [],
   "source": [
    "results = search_client.search(search_text=\"*\", x_ms_query_source_authorization=token_provider(), select=\"name,oid,group\", order_by=\"id asc\")\n",
    "\n",
    "for result in results:\n",
    "    print(f\"Name: {result['name']}, OID: {result['oid']}, Group: {result['group']}\")"
   ]
  },
  {
   "cell_type": "markdown",
   "id": "d31b67d8",
   "metadata": {},
   "source": [
    "## Search sample data without x-ms-query-source-authorization \n",
    "\n",
    "This step demonstrates the user experience when authorization fails. No results are returned in the response."
   ]
  },
  {
   "cell_type": "code",
   "execution_count": null,
   "id": "a1f2f2a0",
   "metadata": {},
   "outputs": [],
   "source": [
    "results = search_client.search(search_text=\"*\", x_ms_query_source_authorization=None, select=\"name,oid,group\", order_by=\"id asc\")\n",
    "\n",
    "for result in results:\n",
    "    print(f\"Name: {result['name']}, OID: {result['oid']}, Group: {result['group']}\")"
   ]
  },
  {
   "cell_type": "markdown",
   "id": "5ad253ec",
   "metadata": {},
   "source": [
    "## Next steps\n",
    "\n",
    "To learn more, see [Document-level access control in Azure AI Search](https://learn.microsoft.com/azure/search/search-document-level-access-overview)."
   ]
  }
 ],
 "metadata": {
  "kernelspec": {
   "display_name": ".venv",
   "language": "python",
   "name": "python3"
  },
  "language_info": {
   "codemirror_mode": {
    "name": "ipython",
    "version": 3
   },
   "file_extension": ".py",
   "mimetype": "text/x-python",
   "name": "python",
   "nbconvert_exporter": "python",
   "pygments_lexer": "ipython3",
   "version": "3.13.5"
  }
 },
 "nbformat": 4,
 "nbformat_minor": 5
}
