{
 "cells": [
  {
   "cell_type": "code",
   "execution_count": null,
   "id": "3a60e313",
   "metadata": {},
   "outputs": [
    {
     "name": "stdout",
     "output_type": "stream",
     "text": [
      "Note: you may need to restart the kernel to use updated packages.\n",
      "Note: you may need to restart the kernel to use updated packages.\n"
     ]
    }
   ],
   "source": [
    "%pip install msgraph-sdk -q\n",
    "\n"
   ]
  },
  {
   "cell_type": "code",
   "execution_count": 1,
   "id": "2975a7f5",
   "metadata": {},
   "outputs": [],
   "source": [
    "from dotenv import load_dotenv\n",
    "from azure.identity import DefaultAzureCredential, get_bearer_token_provider\n",
    "import os\n",
    "\n",
    "load_dotenv(override=True) # take environment variables from .env.\n",
    "\n",
    "# The following variables from your .env file are used in this notebook\n",
    "endpoint = os.environ[\"AZURE_SEARCH_ENDPOINT\"]\n",
    "credential = DefaultAzureCredential()\n",
    "index_name = os.getenv(\"AZURE_SEARCH_INDEX\")\n",
    "token_provider = get_bearer_token_provider(credential, \"https://search.azure.com/.default\")\n"
   ]
  },
  {
   "cell_type": "code",
   "execution_count": 3,
   "id": "ff08e346",
   "metadata": {},
   "outputs": [
    {
     "ename": "ImportError",
     "evalue": "cannot import name 'GraphClient' from 'msgraph' (c:\\Users\\jerom\\OneDrive\\AZURE-AI\\Search\\azure-search-python-samples\\.venv\\Lib\\site-packages\\msgraph\\__init__.py)",
     "output_type": "error",
     "traceback": [
      "\u001b[31m---------------------------------------------------------------------------\u001b[39m",
      "\u001b[31mImportError\u001b[39m                               Traceback (most recent call last)",
      "\u001b[36mCell\u001b[39m\u001b[36m \u001b[39m\u001b[32mIn[3]\u001b[39m\u001b[32m, line 1\u001b[39m\n\u001b[32m----> \u001b[39m\u001b[32m1\u001b[39m \u001b[38;5;28;01mfrom\u001b[39;00m\u001b[38;5;250m \u001b[39m\u001b[34;01mmsgraph\u001b[39;00m\u001b[38;5;250m \u001b[39m\u001b[38;5;28;01mimport\u001b[39;00m GraphClient\n",
      "\u001b[31mImportError\u001b[39m: cannot import name 'GraphClient' from 'msgraph' (c:\\Users\\jerom\\OneDrive\\AZURE-AI\\Search\\azure-search-python-samples\\.venv\\Lib\\site-packages\\msgraph\\__init__.py)"
     ]
    }
   ],
   "source": [
    "from msgraph import GraphClient"
   ]
  },
  {
   "cell_type": "code",
   "execution_count": null,
   "id": "4c404c7b",
   "metadata": {},
   "outputs": [
    {
     "ename": "ModuleNotFoundError",
     "evalue": "No module named 'msgraph.core'",
     "output_type": "error",
     "traceback": [
      "\u001b[31m---------------------------------------------------------------------------\u001b[39m",
      "\u001b[31mModuleNotFoundError\u001b[39m                       Traceback (most recent call last)",
      "\u001b[36mCell\u001b[39m\u001b[36m \u001b[39m\u001b[32mIn[5]\u001b[39m\u001b[32m, line 1\u001b[39m\n\u001b[32m----> \u001b[39m\u001b[32m1\u001b[39m \u001b[38;5;28;01mfrom\u001b[39;00m\u001b[38;5;250m \u001b[39m\u001b[34;01mmsgraph\u001b[39;00m\u001b[34;01m.\u001b[39;00m\u001b[34;01mcore\u001b[39;00m\u001b[38;5;250m \u001b[39m\u001b[38;5;28;01mimport\u001b[39;00m GraphClient\n\u001b[32m      3\u001b[39m \u001b[38;5;66;03m# Create the Graph client using Azure Identity credential\u001b[39;00m\n\u001b[32m      4\u001b[39m graph_client = GraphClient(credential=credential)\n",
      "\u001b[31mModuleNotFoundError\u001b[39m: No module named 'msgraph.core'"
     ]
    }
   ],
   "source": [
    "\n",
    "\n",
    "# Create the Graph client using Azure Identity credential\n",
    "graph_client = GraphClient(credential=credential)\n",
    "\n",
    "# Get current user info\n",
    "me = graph_client.get('/me').json()\n",
    "oid = me.get('id')\n",
    "print(f'User OID: {oid}')\n",
    "\n",
    "# Get group memberships\n",
    "groups_response = graph_client.get('/me/memberOf?$select=id')\n",
    "groups = groups_response.json().get('value', [])\n",
    "group_ids = [g['id'] for g in groups if 'id' in g]\n",
    "print(f'Group IDs: {group_ids}')"
   ]
  }
 ],
 "metadata": {
  "kernelspec": {
   "display_name": ".venv",
   "language": "python",
   "name": "python3"
  },
  "language_info": {
   "codemirror_mode": {
    "name": "ipython",
    "version": 3
   },
   "file_extension": ".py",
   "mimetype": "text/x-python",
   "name": "python",
   "nbconvert_exporter": "python",
   "pygments_lexer": "ipython3",
   "version": "3.13.5"
  }
 },
 "nbformat": 4,
 "nbformat_minor": 5
}
